{
 "cells": [
  {
   "cell_type": "code",
   "execution_count": 4,
   "metadata": {},
   "outputs": [],
   "source": [
    "import pandas as pd\n",
    "import numpy as np\n",
    "import matplotlib.pyplot as plt\n",
    "import japanize_matplotlib\n",
    "\n",
    "import os"
   ]
  },
  {
   "cell_type": "code",
   "execution_count": 8,
   "metadata": {},
   "outputs": [
    {
     "name": "stdout",
     "output_type": "stream",
     "text": [
      "      rssi                               address\n",
      "0      -84  6B4AC246-C4C0-F2D2-34F5-B3C7F10D28CA\n",
      "1      -87  D78A9263-55FD-7332-3553-C8C2538AB2B7\n",
      "2      -71  E1BEC981-F150-F7B4-9462-855BE34E0B7F\n",
      "3      -95  3D2D9305-2FCD-2685-4745-8540D4B83A6F\n",
      "4      -49  249A8CA3-9C46-00D2-8FC7-659FEEAC66DE\n",
      "...    ...                                   ...\n",
      "2245   -93  3D2D9305-2FCD-2685-4745-8540D4B83A6F\n",
      "2246   -98  C4DC2686-9DFD-F534-6BDC-EA074A06D166\n",
      "2247   -89  D27B917C-DCF7-EC43-4E2A-D45C2CCB7076\n",
      "2248   -93  4329C428-9CA5-3467-AD55-521A5A33BC8D\n",
      "2249   -95  4556D436-7DED-A61F-E899-F3363A1708A5\n",
      "\n",
      "[2250 rows x 2 columns]\n"
     ]
    }
   ],
   "source": [
    "# データの読み込み\n",
    "ble_path = \"data/ble\"\n",
    "# ファイル名の一覧を取得\n",
    "ble_files = os.listdir(ble_path)\n",
    "# データを1つにまとめる\n",
    "ble_df = pd.DataFrame()\n",
    "for file in ble_files:\n",
    "    if file[-3:] == \"csv\":\n",
    "        ble_df = pd.concat([ble_df, pd.read_csv(ble_path + \"/\" + file)], axis=0)\n",
    "# インデックスをリセット\n",
    "ble_df = ble_df.reset_index(drop=True)"
   ]
  }
 ],
 "metadata": {
  "kernelspec": {
   "display_name": ".venv",
   "language": "python",
   "name": "python3"
  },
  "language_info": {
   "codemirror_mode": {
    "name": "ipython",
    "version": 3
   },
   "file_extension": ".py",
   "mimetype": "text/x-python",
   "name": "python",
   "nbconvert_exporter": "python",
   "pygments_lexer": "ipython3",
   "version": "3.10.11"
  }
 },
 "nbformat": 4,
 "nbformat_minor": 2
}
